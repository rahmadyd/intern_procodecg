{
 "cells": [
  {
   "cell_type": "markdown",
   "id": "45de8017",
   "metadata": {},
   "source": [
    "****Data Cleaning**** csv"
   ]
  },
  {
   "cell_type": "markdown",
   "id": "b5aff0d1",
   "metadata": {},
   "source": [
    "Identifikasi data mentah"
   ]
  },
  {
   "cell_type": "code",
   "execution_count": 31,
   "id": "06708b2e",
   "metadata": {},
   "outputs": [
    {
     "data": {
      "text/html": [
       "<div>\n",
       "<style scoped>\n",
       "    .dataframe tbody tr th:only-of-type {\n",
       "        vertical-align: middle;\n",
       "    }\n",
       "\n",
       "    .dataframe tbody tr th {\n",
       "        vertical-align: top;\n",
       "    }\n",
       "\n",
       "    .dataframe thead th {\n",
       "        text-align: right;\n",
       "    }\n",
       "</style>\n",
       "<table border=\"1\" class=\"dataframe\">\n",
       "  <thead>\n",
       "    <tr style=\"text-align: right;\">\n",
       "      <th></th>\n",
       "      <th>Date</th>\n",
       "      <th>Location ISO Code</th>\n",
       "      <th>Location</th>\n",
       "      <th>New Cases</th>\n",
       "      <th>New Deaths</th>\n",
       "      <th>New Recovered</th>\n",
       "      <th>New Active Cases</th>\n",
       "      <th>Total Cases</th>\n",
       "      <th>Total Deaths</th>\n",
       "      <th>Total Recovered</th>\n",
       "      <th>...</th>\n",
       "      <th>Latitude</th>\n",
       "      <th>New Cases per Million</th>\n",
       "      <th>Total Cases per Million</th>\n",
       "      <th>New Deaths per Million</th>\n",
       "      <th>Total Deaths per Million</th>\n",
       "      <th>Total Deaths per 100rb</th>\n",
       "      <th>Case Fatality Rate</th>\n",
       "      <th>Case Recovered Rate</th>\n",
       "      <th>Growth Factor of New Cases</th>\n",
       "      <th>Growth Factor of New Deaths</th>\n",
       "    </tr>\n",
       "  </thead>\n",
       "  <tbody>\n",
       "    <tr>\n",
       "      <th>0</th>\n",
       "      <td>3/1/2020</td>\n",
       "      <td>ID-JK</td>\n",
       "      <td>DKI Jakarta</td>\n",
       "      <td>2</td>\n",
       "      <td>0</td>\n",
       "      <td>0</td>\n",
       "      <td>2</td>\n",
       "      <td>39</td>\n",
       "      <td>20</td>\n",
       "      <td>75</td>\n",
       "      <td>...</td>\n",
       "      <td>-6.204699</td>\n",
       "      <td>0.18</td>\n",
       "      <td>3.60</td>\n",
       "      <td>0.0</td>\n",
       "      <td>1.84</td>\n",
       "      <td>0.18</td>\n",
       "      <td>51.28%</td>\n",
       "      <td>192.31%</td>\n",
       "      <td>NaN</td>\n",
       "      <td>NaN</td>\n",
       "    </tr>\n",
       "    <tr>\n",
       "      <th>1</th>\n",
       "      <td>3/2/2020</td>\n",
       "      <td>ID-JK</td>\n",
       "      <td>DKI Jakarta</td>\n",
       "      <td>2</td>\n",
       "      <td>0</td>\n",
       "      <td>0</td>\n",
       "      <td>2</td>\n",
       "      <td>41</td>\n",
       "      <td>20</td>\n",
       "      <td>75</td>\n",
       "      <td>...</td>\n",
       "      <td>-6.204699</td>\n",
       "      <td>0.18</td>\n",
       "      <td>3.78</td>\n",
       "      <td>0.0</td>\n",
       "      <td>1.84</td>\n",
       "      <td>0.18</td>\n",
       "      <td>48.78%</td>\n",
       "      <td>182.93%</td>\n",
       "      <td>1.0</td>\n",
       "      <td>1.0</td>\n",
       "    </tr>\n",
       "    <tr>\n",
       "      <th>2</th>\n",
       "      <td>3/2/2020</td>\n",
       "      <td>IDN</td>\n",
       "      <td>Indonesia</td>\n",
       "      <td>2</td>\n",
       "      <td>0</td>\n",
       "      <td>0</td>\n",
       "      <td>2</td>\n",
       "      <td>2</td>\n",
       "      <td>0</td>\n",
       "      <td>0</td>\n",
       "      <td>...</td>\n",
       "      <td>-0.789275</td>\n",
       "      <td>0.01</td>\n",
       "      <td>0.01</td>\n",
       "      <td>0.0</td>\n",
       "      <td>0.00</td>\n",
       "      <td>0.00</td>\n",
       "      <td>0.00%</td>\n",
       "      <td>0.00%</td>\n",
       "      <td>NaN</td>\n",
       "      <td>NaN</td>\n",
       "    </tr>\n",
       "    <tr>\n",
       "      <th>3</th>\n",
       "      <td>3/2/2020</td>\n",
       "      <td>ID-RI</td>\n",
       "      <td>Riau</td>\n",
       "      <td>1</td>\n",
       "      <td>0</td>\n",
       "      <td>0</td>\n",
       "      <td>1</td>\n",
       "      <td>1</td>\n",
       "      <td>0</td>\n",
       "      <td>1</td>\n",
       "      <td>...</td>\n",
       "      <td>0.511648</td>\n",
       "      <td>0.16</td>\n",
       "      <td>0.16</td>\n",
       "      <td>0.0</td>\n",
       "      <td>0.00</td>\n",
       "      <td>0.00</td>\n",
       "      <td>0.00%</td>\n",
       "      <td>100.00%</td>\n",
       "      <td>NaN</td>\n",
       "      <td>NaN</td>\n",
       "    </tr>\n",
       "    <tr>\n",
       "      <th>4</th>\n",
       "      <td>3/3/2020</td>\n",
       "      <td>ID-JK</td>\n",
       "      <td>DKI Jakarta</td>\n",
       "      <td>2</td>\n",
       "      <td>0</td>\n",
       "      <td>0</td>\n",
       "      <td>2</td>\n",
       "      <td>43</td>\n",
       "      <td>20</td>\n",
       "      <td>75</td>\n",
       "      <td>...</td>\n",
       "      <td>-6.204699</td>\n",
       "      <td>0.18</td>\n",
       "      <td>3.96</td>\n",
       "      <td>0.0</td>\n",
       "      <td>1.84</td>\n",
       "      <td>0.18</td>\n",
       "      <td>46.51%</td>\n",
       "      <td>174.42%</td>\n",
       "      <td>1.0</td>\n",
       "      <td>1.0</td>\n",
       "    </tr>\n",
       "  </tbody>\n",
       "</table>\n",
       "<p>5 rows × 38 columns</p>\n",
       "</div>"
      ],
      "text/plain": [
       "       Date Location ISO Code     Location  New Cases  New Deaths  \\\n",
       "0  3/1/2020             ID-JK  DKI Jakarta          2           0   \n",
       "1  3/2/2020             ID-JK  DKI Jakarta          2           0   \n",
       "2  3/2/2020               IDN    Indonesia          2           0   \n",
       "3  3/2/2020             ID-RI         Riau          1           0   \n",
       "4  3/3/2020             ID-JK  DKI Jakarta          2           0   \n",
       "\n",
       "   New Recovered  New Active Cases  Total Cases  Total Deaths  \\\n",
       "0              0                 2           39            20   \n",
       "1              0                 2           41            20   \n",
       "2              0                 2            2             0   \n",
       "3              0                 1            1             0   \n",
       "4              0                 2           43            20   \n",
       "\n",
       "   Total Recovered  ...  Latitude New Cases per Million  \\\n",
       "0               75  ... -6.204699                  0.18   \n",
       "1               75  ... -6.204699                  0.18   \n",
       "2                0  ... -0.789275                  0.01   \n",
       "3                1  ...  0.511648                  0.16   \n",
       "4               75  ... -6.204699                  0.18   \n",
       "\n",
       "   Total Cases per Million New Deaths per Million Total Deaths per Million  \\\n",
       "0                     3.60                    0.0                     1.84   \n",
       "1                     3.78                    0.0                     1.84   \n",
       "2                     0.01                    0.0                     0.00   \n",
       "3                     0.16                    0.0                     0.00   \n",
       "4                     3.96                    0.0                     1.84   \n",
       "\n",
       "  Total Deaths per 100rb Case Fatality Rate Case Recovered Rate  \\\n",
       "0                   0.18             51.28%             192.31%   \n",
       "1                   0.18             48.78%             182.93%   \n",
       "2                   0.00              0.00%               0.00%   \n",
       "3                   0.00              0.00%             100.00%   \n",
       "4                   0.18             46.51%             174.42%   \n",
       "\n",
       "  Growth Factor of New Cases  Growth Factor of New Deaths  \n",
       "0                        NaN                          NaN  \n",
       "1                        1.0                          1.0  \n",
       "2                        NaN                          NaN  \n",
       "3                        NaN                          NaN  \n",
       "4                        1.0                          1.0  \n",
       "\n",
       "[5 rows x 38 columns]"
      ]
     },
     "execution_count": 31,
     "metadata": {},
     "output_type": "execute_result"
    }
   ],
   "source": [
    "import pandas as pd\n",
    "df = pd.read_csv(\"D:/rag_chatbot_covid_19/data/raw/covid_19_indonesia_time_series_all.csv\")\n",
    "df.head()"
   ]
  },
  {
   "cell_type": "code",
   "execution_count": 18,
   "id": "b71e23be",
   "metadata": {},
   "outputs": [
    {
     "name": "stdout",
     "output_type": "stream",
     "text": [
      "Index(['Date', 'Location ISO Code', 'Location', 'New Cases', 'New Deaths',\n",
      "       'New Recovered', 'New Active Cases', 'Total Cases', 'Total Deaths',\n",
      "       'Total Recovered', 'Total Active Cases', 'Location Level',\n",
      "       'City or Regency', 'Province', 'Country', 'Continent', 'Island',\n",
      "       'Time Zone', 'Special Status', 'Total Regencies', 'Total Cities',\n",
      "       'Total Districts', 'Total Urban Villages', 'Total Rural Villages',\n",
      "       'Area (km2)', 'Population', 'Population Density', 'Longitude',\n",
      "       'Latitude', 'New Cases per Million', 'Total Cases per Million',\n",
      "       'New Deaths per Million', 'Total Deaths per Million',\n",
      "       'Total Deaths per 100rb', 'Case Fatality Rate', 'Case Recovered Rate',\n",
      "       'Growth Factor of New Cases', 'Growth Factor of New Deaths'],\n",
      "      dtype='object')\n"
     ]
    }
   ],
   "source": [
    "print(df.columns)"
   ]
  },
  {
   "cell_type": "markdown",
   "id": "090b24ee",
   "metadata": {},
   "source": [
    "Memilih data kolom yang paling relavan"
   ]
  },
  {
   "cell_type": "code",
   "execution_count": 19,
   "id": "fb5f9a51",
   "metadata": {},
   "outputs": [
    {
     "data": {
      "text/html": [
       "<div>\n",
       "<style scoped>\n",
       "    .dataframe tbody tr th:only-of-type {\n",
       "        vertical-align: middle;\n",
       "    }\n",
       "\n",
       "    .dataframe tbody tr th {\n",
       "        vertical-align: top;\n",
       "    }\n",
       "\n",
       "    .dataframe thead th {\n",
       "        text-align: right;\n",
       "    }\n",
       "</style>\n",
       "<table border=\"1\" class=\"dataframe\">\n",
       "  <thead>\n",
       "    <tr style=\"text-align: right;\">\n",
       "      <th></th>\n",
       "      <th>Date</th>\n",
       "      <th>Province</th>\n",
       "      <th>City or Regency</th>\n",
       "      <th>New Cases</th>\n",
       "      <th>New Deaths</th>\n",
       "      <th>New Recovered</th>\n",
       "      <th>Total Cases</th>\n",
       "      <th>Total Deaths</th>\n",
       "      <th>Total Recovered</th>\n",
       "      <th>Case Fatality Rate</th>\n",
       "      <th>Case Recovered Rate</th>\n",
       "      <th>Population</th>\n",
       "    </tr>\n",
       "  </thead>\n",
       "  <tbody>\n",
       "    <tr>\n",
       "      <th>0</th>\n",
       "      <td>3/1/2020</td>\n",
       "      <td>DKI Jakarta</td>\n",
       "      <td>NaN</td>\n",
       "      <td>2</td>\n",
       "      <td>0</td>\n",
       "      <td>0</td>\n",
       "      <td>39</td>\n",
       "      <td>20</td>\n",
       "      <td>75</td>\n",
       "      <td>51.28%</td>\n",
       "      <td>192.31%</td>\n",
       "      <td>10846145</td>\n",
       "    </tr>\n",
       "    <tr>\n",
       "      <th>1</th>\n",
       "      <td>3/2/2020</td>\n",
       "      <td>DKI Jakarta</td>\n",
       "      <td>NaN</td>\n",
       "      <td>2</td>\n",
       "      <td>0</td>\n",
       "      <td>0</td>\n",
       "      <td>41</td>\n",
       "      <td>20</td>\n",
       "      <td>75</td>\n",
       "      <td>48.78%</td>\n",
       "      <td>182.93%</td>\n",
       "      <td>10846145</td>\n",
       "    </tr>\n",
       "    <tr>\n",
       "      <th>2</th>\n",
       "      <td>3/2/2020</td>\n",
       "      <td>NaN</td>\n",
       "      <td>NaN</td>\n",
       "      <td>2</td>\n",
       "      <td>0</td>\n",
       "      <td>0</td>\n",
       "      <td>2</td>\n",
       "      <td>0</td>\n",
       "      <td>0</td>\n",
       "      <td>0.00%</td>\n",
       "      <td>0.00%</td>\n",
       "      <td>265185520</td>\n",
       "    </tr>\n",
       "    <tr>\n",
       "      <th>3</th>\n",
       "      <td>3/2/2020</td>\n",
       "      <td>Riau</td>\n",
       "      <td>NaN</td>\n",
       "      <td>1</td>\n",
       "      <td>0</td>\n",
       "      <td>0</td>\n",
       "      <td>1</td>\n",
       "      <td>0</td>\n",
       "      <td>1</td>\n",
       "      <td>0.00%</td>\n",
       "      <td>100.00%</td>\n",
       "      <td>6074100</td>\n",
       "    </tr>\n",
       "    <tr>\n",
       "      <th>4</th>\n",
       "      <td>3/3/2020</td>\n",
       "      <td>DKI Jakarta</td>\n",
       "      <td>NaN</td>\n",
       "      <td>2</td>\n",
       "      <td>0</td>\n",
       "      <td>0</td>\n",
       "      <td>43</td>\n",
       "      <td>20</td>\n",
       "      <td>75</td>\n",
       "      <td>46.51%</td>\n",
       "      <td>174.42%</td>\n",
       "      <td>10846145</td>\n",
       "    </tr>\n",
       "  </tbody>\n",
       "</table>\n",
       "</div>"
      ],
      "text/plain": [
       "       Date     Province  City or Regency  New Cases  New Deaths  \\\n",
       "0  3/1/2020  DKI Jakarta              NaN          2           0   \n",
       "1  3/2/2020  DKI Jakarta              NaN          2           0   \n",
       "2  3/2/2020          NaN              NaN          2           0   \n",
       "3  3/2/2020         Riau              NaN          1           0   \n",
       "4  3/3/2020  DKI Jakarta              NaN          2           0   \n",
       "\n",
       "   New Recovered  Total Cases  Total Deaths  Total Recovered  \\\n",
       "0              0           39            20               75   \n",
       "1              0           41            20               75   \n",
       "2              0            2             0                0   \n",
       "3              0            1             0                1   \n",
       "4              0           43            20               75   \n",
       "\n",
       "  Case Fatality Rate Case Recovered Rate  Population  \n",
       "0             51.28%             192.31%    10846145  \n",
       "1             48.78%             182.93%    10846145  \n",
       "2              0.00%               0.00%   265185520  \n",
       "3              0.00%             100.00%     6074100  \n",
       "4             46.51%             174.42%    10846145  "
      ]
     },
     "execution_count": 19,
     "metadata": {},
     "output_type": "execute_result"
    }
   ],
   "source": [
    "kolom_pilihan = df[['Date', 'Province', 'City or Regency', 'New Cases', 'New Deaths', 'New Recovered', 'Total Cases', 'Total Deaths', 'Total Recovered', 'Case Fatality Rate', 'Case Recovered Rate', 'Population']]\n",
    "kolom_pilihan.head()"
   ]
  },
  {
   "cell_type": "code",
   "execution_count": 15,
   "id": "c39fc6ea",
   "metadata": {},
   "outputs": [
    {
     "name": "stdout",
     "output_type": "stream",
     "text": [
      "Index(['Date', 'Province', 'City or Regency', 'New Cases', 'New Deaths',\n",
      "       'New Recovered', 'Total Cases', 'Total Deaths', 'Total Recovered',\n",
      "       'Case Fatality Rate', 'Case Recovered Rate', 'Population'],\n",
      "      dtype='object')\n"
     ]
    },
    {
     "data": {
      "text/plain": [
       "31822"
      ]
     },
     "execution_count": 15,
     "metadata": {},
     "output_type": "execute_result"
    }
   ],
   "source": [
    "print(kolom_pilihan.columns)\n",
    "len(kolom_pilihan)\n",
    "kolom_pilihan.shape[0]"
   ]
  },
  {
   "cell_type": "markdown",
   "id": "b3562d1c",
   "metadata": {},
   "source": [
    "Save data yang baru dibersihkan"
   ]
  },
  {
   "cell_type": "code",
   "execution_count": 23,
   "id": "af1bd357",
   "metadata": {},
   "outputs": [],
   "source": [
    "kolom_pilihan.to_csv(r\"D:/rag_chatbot_covid_19/data/processed/covid_19_clean.csv\", index=False)"
   ]
  },
  {
   "cell_type": "code",
   "execution_count": 24,
   "id": "1cda3733",
   "metadata": {},
   "outputs": [
    {
     "data": {
      "text/html": [
       "<div>\n",
       "<style scoped>\n",
       "    .dataframe tbody tr th:only-of-type {\n",
       "        vertical-align: middle;\n",
       "    }\n",
       "\n",
       "    .dataframe tbody tr th {\n",
       "        vertical-align: top;\n",
       "    }\n",
       "\n",
       "    .dataframe thead th {\n",
       "        text-align: right;\n",
       "    }\n",
       "</style>\n",
       "<table border=\"1\" class=\"dataframe\">\n",
       "  <thead>\n",
       "    <tr style=\"text-align: right;\">\n",
       "      <th></th>\n",
       "      <th>Date</th>\n",
       "      <th>Province</th>\n",
       "      <th>City or Regency</th>\n",
       "      <th>New Cases</th>\n",
       "      <th>New Deaths</th>\n",
       "      <th>New Recovered</th>\n",
       "      <th>Total Cases</th>\n",
       "      <th>Total Deaths</th>\n",
       "      <th>Total Recovered</th>\n",
       "      <th>Case Fatality Rate</th>\n",
       "      <th>Case Recovered Rate</th>\n",
       "      <th>Population</th>\n",
       "    </tr>\n",
       "  </thead>\n",
       "  <tbody>\n",
       "  </tbody>\n",
       "</table>\n",
       "</div>"
      ],
      "text/plain": [
       "Empty DataFrame\n",
       "Columns: [Date, Province, City or Regency, New Cases, New Deaths, New Recovered, Total Cases, Total Deaths, Total Recovered, Case Fatality Rate, Case Recovered Rate, Population]\n",
       "Index: []"
      ]
     },
     "execution_count": 24,
     "metadata": {},
     "output_type": "execute_result"
    }
   ],
   "source": [
    "kolom_pilihan.head(0)"
   ]
  },
  {
   "cell_type": "markdown",
   "id": "8c71c48b",
   "metadata": {},
   "source": [
    "Terjmahkan title kolom dari bahasa inggris ke bahasa indonesia"
   ]
  },
  {
   "cell_type": "code",
   "execution_count": null,
   "id": "c972f225",
   "metadata": {},
   "outputs": [],
   "source": [
    "terjemahan = pd.read_csv(r\"D:/rag_chatbot_covid_19/data/processed/covid_19_clean.csv\")\n",
    "\n",
    "kolom_terjemahan = {\n",
    "    'Date': 'Tanggal',\n",
    "    'Province': 'Provinsi',\n",
    "    'City or Regency': 'Kota/Kabupaten',\n",
    "    'New Cases': 'Kasus Baru',\n",
    "    'New Deaths': 'Kematian Baru',\n",
    "    'New Recovered': 'Sembuh Baru',\n",
    "    'Total Cases': 'Total Kasus',\n",
    "    'Total Deaths': 'Total Kematian',\n",
    "    'Total Recovered': 'Total Sembuh',\n",
    "    'Case Fatality Rate': 'Rasio Kematian Kasus',\n",
    "    'Case Recovered Rate': 'Rasio Kesembuhan Kasus',\n",
    "    'Population': 'Jumlah Penduduk'\n",
    "}\n",
    "\n",
    "terjemahan = terjemahan.rename(columns=kolom_terjemahan)\n",
    "\n"
   ]
  },
  {
   "cell_type": "code",
   "execution_count": 29,
   "id": "ca4119ac",
   "metadata": {},
   "outputs": [
    {
     "data": {
      "text/html": [
       "<div>\n",
       "<style scoped>\n",
       "    .dataframe tbody tr th:only-of-type {\n",
       "        vertical-align: middle;\n",
       "    }\n",
       "\n",
       "    .dataframe tbody tr th {\n",
       "        vertical-align: top;\n",
       "    }\n",
       "\n",
       "    .dataframe thead th {\n",
       "        text-align: right;\n",
       "    }\n",
       "</style>\n",
       "<table border=\"1\" class=\"dataframe\">\n",
       "  <thead>\n",
       "    <tr style=\"text-align: right;\">\n",
       "      <th></th>\n",
       "      <th>Tanggal</th>\n",
       "      <th>Provinsi</th>\n",
       "      <th>Kota/Kabupaten</th>\n",
       "      <th>Kasus Baru</th>\n",
       "      <th>Kematian Baru</th>\n",
       "      <th>Sembuh Baru</th>\n",
       "      <th>Total Kasus</th>\n",
       "      <th>Total Kematian</th>\n",
       "      <th>Total Sembuh</th>\n",
       "      <th>Rasio Kematian Kasus</th>\n",
       "      <th>Rasio Kesembuhan Kasus</th>\n",
       "      <th>Jumlah Penduduk</th>\n",
       "    </tr>\n",
       "  </thead>\n",
       "  <tbody>\n",
       "  </tbody>\n",
       "</table>\n",
       "</div>"
      ],
      "text/plain": [
       "Empty DataFrame\n",
       "Columns: [Tanggal, Provinsi, Kota/Kabupaten, Kasus Baru, Kematian Baru, Sembuh Baru, Total Kasus, Total Kematian, Total Sembuh, Rasio Kematian Kasus, Rasio Kesembuhan Kasus, Jumlah Penduduk]\n",
       "Index: []"
      ]
     },
     "execution_count": 29,
     "metadata": {},
     "output_type": "execute_result"
    }
   ],
   "source": [
    "terjemahan.head(0)"
   ]
  },
  {
   "cell_type": "markdown",
   "id": "85bd4898",
   "metadata": {},
   "source": [
    "Save sebagai data berbahasa indonesia, agar cocok dipakai chatbot yang berbahasa indonesia"
   ]
  },
  {
   "cell_type": "code",
   "execution_count": 30,
   "id": "e746fc07",
   "metadata": {},
   "outputs": [],
   "source": [
    "terjemahan.to_csv(r\"D:/rag_chatbot_covid_19/data/processed/covid_19_indonesia.csv\", index=False)"
   ]
  },
  {
   "cell_type": "markdown",
   "id": "048320d6",
   "metadata": {},
   "source": [
    "📊 CSV → ubah ke teks"
   ]
  },
  {
   "cell_type": "code",
   "execution_count": 6,
   "id": "f7bb11be",
   "metadata": {},
   "outputs": [
    {
     "data": {
      "text/html": [
       "<div>\n",
       "<style scoped>\n",
       "    .dataframe tbody tr th:only-of-type {\n",
       "        vertical-align: middle;\n",
       "    }\n",
       "\n",
       "    .dataframe tbody tr th {\n",
       "        vertical-align: top;\n",
       "    }\n",
       "\n",
       "    .dataframe thead th {\n",
       "        text-align: right;\n",
       "    }\n",
       "</style>\n",
       "<table border=\"1\" class=\"dataframe\">\n",
       "  <thead>\n",
       "    <tr style=\"text-align: right;\">\n",
       "      <th></th>\n",
       "      <th>Tanggal</th>\n",
       "      <th>Provinsi</th>\n",
       "      <th>Kota/Kabupaten</th>\n",
       "      <th>Kasus Baru</th>\n",
       "      <th>Kematian Baru</th>\n",
       "      <th>Sembuh Baru</th>\n",
       "      <th>Total Kasus</th>\n",
       "      <th>Total Kematian</th>\n",
       "      <th>Total Sembuh</th>\n",
       "      <th>Rasio Kematian Kasus</th>\n",
       "      <th>Rasio Kesembuhan Kasus</th>\n",
       "      <th>Jumlah Penduduk</th>\n",
       "    </tr>\n",
       "  </thead>\n",
       "  <tbody>\n",
       "  </tbody>\n",
       "</table>\n",
       "</div>"
      ],
      "text/plain": [
       "Empty DataFrame\n",
       "Columns: [Tanggal, Provinsi, Kota/Kabupaten, Kasus Baru, Kematian Baru, Sembuh Baru, Total Kasus, Total Kematian, Total Sembuh, Rasio Kematian Kasus, Rasio Kesembuhan Kasus, Jumlah Penduduk]\n",
       "Index: []"
      ]
     },
     "execution_count": 6,
     "metadata": {},
     "output_type": "execute_result"
    }
   ],
   "source": [
    "import pandas as pd\n",
    "\n",
    "data = pd.read_csv(r\"D:/rag_chatbot_covid_19/data/processed/covid_19_indonesia.csv\")\n",
    "data.head(0)"
   ]
  },
  {
   "cell_type": "code",
   "execution_count": 9,
   "id": "6daf6145",
   "metadata": {},
   "outputs": [
    {
     "name": "stdout",
     "output_type": "stream",
     "text": [
      "✅ Data berhasil dikonversi ke narasi!\n",
      "Contoh hasil:\n",
      "\n",
      "Pada 3/1/2020, di nan, DKI Jakarta, tercatat 2 kasus baru COVID-19, 0 kematian baru, dan 0 pasien sembuh. Total kasus mencapai 39, dengan 20 kematian dan 75 pasien sembuh. Rasio kematian kasus adalah nan persen, dan rasio kesembuhan adalah nan persen. Jumlah penduduk wilayah ini adalah 10846145 orang.\n",
      "Pada 3/2/2020, di nan, DKI Jakarta, tercatat 2 kasus baru COVID-19, 0 kematian baru, dan 0 pasien sembuh. Total kasus mencapai 41, dengan 20 kematian dan 75 pasien sembuh. Rasio kematian kasus adal\n"
     ]
    }
   ],
   "source": [
    "import pandas as pd\n",
    "import pdfplumber\n",
    "import json\n",
    "import os\n",
    "\n",
    "csv_path = r\"D:\\rag_chatbot_covid_19\\data\\processed\\covid_19_indonesia.csv\"\n",
    "df = pd.read_csv(csv_path)\n",
    "\n",
    "# Konversi kolom rasio ke float\n",
    "df[\"Rasio Kematian Kasus\"] = pd.to_numeric(df[\"Rasio Kematian Kasus\"], errors=\"coerce\")\n",
    "df[\"Rasio Kesembuhan Kasus\"] = pd.to_numeric(df[\"Rasio Kesembuhan Kasus\"], errors=\"coerce\")\n",
    "\n",
    "texts = []\n",
    "for _, row in df.iterrows():\n",
    "    text = (\n",
    "        f\"Pada {row['Tanggal']}, di {row['Kota/Kabupaten']}, {row['Provinsi']}, \"\n",
    "        f\"tercatat {row['Kasus Baru']} kasus baru COVID-19, \"\n",
    "        f\"{row['Kematian Baru']} kematian baru, dan {row['Sembuh Baru']} pasien sembuh. \"\n",
    "        f\"Total kasus mencapai {row['Total Kasus']}, dengan {row['Total Kematian']} kematian \"\n",
    "        f\"dan {row['Total Sembuh']} pasien sembuh. \"\n",
    "        f\"Rasio kematian kasus adalah {row['Rasio Kematian Kasus']:.2f} persen, \"\n",
    "        f\"dan rasio kesembuhan adalah {row['Rasio Kesembuhan Kasus']:.2f} persen. \"\n",
    "        f\"Jumlah penduduk wilayah ini adalah {row['Jumlah Penduduk']} orang.\"\n",
    "    )\n",
    "    texts.append(text)\n",
    "\n",
    "quant_text = \"\\n\".join(texts)\n",
    "\n",
    "print(\"✅ Data berhasil dikonversi ke narasi!\")\n",
    "print(\"Contoh hasil:\\n\")\n",
    "print(quant_text[:500])\n"
   ]
  },
  {
   "cell_type": "code",
   "execution_count": 11,
   "id": "0d60a040",
   "metadata": {},
   "outputs": [
    {
     "name": "stdout",
     "output_type": "stream",
     "text": [
      "✅ File JSONL berhasil disimpan di: D:\\rag_chatbot_covid_19\\data\\processed\\covid_to_narative.jsonl\n"
     ]
    }
   ],
   "source": [
    "output_path = r\"D:\\rag_chatbot_covid_19\\data\\processed\\covid_to_narative.jsonl\"\n",
    "\n",
    "with open(output_path, \"w\", encoding=\"utf-8\") as f:\n",
    "    for i, text in enumerate(texts):\n",
    "        f.write(json.dumps({\"id\": f\"row_{i}\", \"text\": text}) + \"\\n\")\n",
    "\n",
    "print(f\"✅ File JSONL berhasil disimpan di: {output_path}\")\n"
   ]
  },
  {
   "cell_type": "code",
   "execution_count": null,
   "id": "9b803920",
   "metadata": {},
   "outputs": [],
   "source": []
  }
 ],
 "metadata": {
  "kernelspec": {
   "display_name": "base",
   "language": "python",
   "name": "python3"
  },
  "language_info": {
   "codemirror_mode": {
    "name": "ipython",
    "version": 3
   },
   "file_extension": ".py",
   "mimetype": "text/x-python",
   "name": "python",
   "nbconvert_exporter": "python",
   "pygments_lexer": "ipython3",
   "version": "3.13.5"
  }
 },
 "nbformat": 4,
 "nbformat_minor": 5
}
